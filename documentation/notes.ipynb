{
 "cells": [
  {
   "cell_type": "markdown",
   "metadata": {},
   "source": [
    "\n",
    "# Notes"
   ]
  },
  {
   "cell_type": "markdown",
   "metadata": {},
   "source": [
    "## Bayesian theorem\n",
    "Bayesian Data Analysis produces distributions as predictions rather than point estimates which are produced by frequentist statistical methods. With distributions we can model the uncertainty of the prediction much better than with point estimates. Bayesian methods are all based on a fundamental probability theory, the Bayesian theorem:<br>\n",
    "$$ \n",
    "P(A\\mid B) = \\frac{P(B\\mid A)P(A)}{P(B)}\n",
    "$$\n",
    "where we have on the left the posterior and on the right hand side the likelihood times the prior divided by a marginal likelihood (normalisation term). The bayes rule therefore combines the likelihood of getting B given A and the prior information of A to form the posterior which is the probability of A given (the data) B. In the likelihood the data, which is in this case B, stays the same. Therefore the likelihood tells us how likely each A value is giving we observe B. The prior can be non-informative (uniform), weakly informative (some knowledge, boundaries, more information on previous observations but not certain how well that is applicable in this situation) or informative. The posterior can often be seen as a compromise between the data and the prior knowledge of the investigated parameter.\n",
    "\n",
    "In Bayesian Data Analysis the previous equation is often in the form:<br>\n",
    "$$ \n",
    "p(\\theta \\mid y) = \\frac{p(y\\mid \\theta)p(\\theta)}{p(y)}\n",
    "$$\n",
    "where theta is the value we want to investigate and y is the data."
   ]
  },
  {
   "cell_type": "markdown",
   "metadata": {},
   "source": [
    "## Markov Chain Monte Carlo (MCMC)\n",
    "As the posterior distributions are often hard to compute, one can use Markov Chain Monte Carlo methods to produced the posterior distribution."
   ]
  },
  {
   "cell_type": "markdown",
   "metadata": {},
   "source": [
    "## Hamiltonian Monte Carlo"
   ]
  },
  {
   "cell_type": "markdown",
   "metadata": {},
   "source": [
    "## Hierarchical model"
   ]
  }
 ],
 "metadata": {
  "language_info": {
   "name": "python"
  },
  "orig_nbformat": 4
 },
 "nbformat": 4,
 "nbformat_minor": 2
}
