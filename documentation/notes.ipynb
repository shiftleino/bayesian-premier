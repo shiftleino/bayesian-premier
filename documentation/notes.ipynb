{
 "cells": [
  {
   "cell_type": "markdown",
   "metadata": {},
   "source": [
    "\n",
    "# Notes"
   ]
  },
  {
   "cell_type": "markdown",
   "metadata": {},
   "source": [
    "## Bayesian theorem\n",
    "Bayesian Data Analysis produces distributions as predictions rather than point estimates which are produced by frequentist statistical methods. With distributions we can model the uncertainty of the prediction much better than with point estimates. Bayesian methods are all based on a fundamental probability theory, the Bayesian theorem:<br>\n",
    "\n",
    "$$ \n",
    "\\sigma\n",
    "$$"
   ]
  },
  {
   "cell_type": "markdown",
   "metadata": {},
   "source": [
    "## Markov Chain Monte Carlo (MCMC)\n",
    "As the posterior distributions are often hard to compute, one can use Markov Chain Monte Carlo methods to produced the posterior distribution."
   ]
  },
  {
   "cell_type": "markdown",
   "metadata": {},
   "source": [
    "## Hamiltonian Monte Carlo"
   ]
  },
  {
   "cell_type": "markdown",
   "metadata": {},
   "source": [
    "## Hierarchical model"
   ]
  }
 ],
 "metadata": {
  "language_info": {
   "name": "python"
  },
  "orig_nbformat": 4
 },
 "nbformat": 4,
 "nbformat_minor": 2
}
