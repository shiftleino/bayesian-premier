{
 "cells": [
  {
   "cell_type": "markdown",
   "metadata": {},
   "source": [
    "----\n",
    "# Bayesian Data Analysis - Premier League Project\n",
    "----"
   ]
  },
  {
   "cell_type": "markdown",
   "metadata": {},
   "source": [
    "## Table of Contents\n",
    "<ul>\n",
    "    <li>Imports</li>\n",
    "    <li>Background</li>\n",
    "    <li>Data</li>\n",
    "    <li>Model 1: Pooled model using ManU forwards</li>\n",
    "    <li>Model 2: Hierarchical model using ManU forwards</li>\n",
    "    <li>Model 3: Hierarchical model using new PL forwards</li>\n",
    "    <li>Model comparison</li>\n",
    "    <li>Sources</li>\n",
    "</ul>"
   ]
  },
  {
   "cell_type": "markdown",
   "metadata": {},
   "source": [
    "## Imports"
   ]
  },
  {
   "cell_type": "code",
   "execution_count": 1,
   "metadata": {},
   "outputs": [],
   "source": [
    "import numpy as np\n",
    "import arviz as az\n",
    "import stan\n",
    "import nest_asyncio\n",
    "import warnings\n",
    "import matplotlib.pyplot as plt\n",
    "from scipy import stats"
   ]
  },
  {
   "cell_type": "markdown",
   "metadata": {},
   "source": [
    "## Background"
   ]
  },
  {
   "cell_type": "markdown",
   "metadata": {},
   "source": [
    "<b>Bayesian methods in sports</b><br>\n",
    "The usage of Bayesian methods in sports analytics has been increasing due to the increasing amount of statistics gathered from sports and also the multiple advantages that Bayesian methods have (Santos-Fernandez et al., 2019). Bayesian approach allows for example to provide probabilistic estimates, add new information to models and make predictions that take the uncertainty into consideration. \n",
    "\n",
    "<b>Premier League</b><br>\n",
    "As I am a big football fan, I have decided to do the project about the English Premier league. In the summer of 2021 a big English football club, Manchester United, decided to re-sign Ronaldo from Juventus with a transfer of about £12.85 million. On top of this, Ronaldo's yearly salary is estimated to be about $125 (Settimi, 2021), at least in this project.\n",
    "\n",
    "Despite of being a Tottenham Hotspur fan, in this project I am using Bayesian methods to do decision analysis for Manchester United (obviously not <I>really</I> :D). \n",
    "\n",
    "<b>This project</b><br>\n",
    "In this project we are going to assess whether Manchester United should re-sign Ronaldo in the summer of 2021. As nowadays football is mostly about money and business, we are going to base our decision only on money. To model the amount of money Ronaldo provides for ManU, we are going to use the amount of goals Ronaldo will score in a season. However, as Ronaldo has not played in the EPL for ages and Serie A/LaLiga goals are arguably not comparable with EPL goals, we cannot use for example the average of Ronaldo's previous goal scoring numbers as a point estimate for the goals in EPL or model with Bayesian methods straight from the data. Therefore, we are going to model Ronaldo's expected goal scoring with two hierarchical bayesian models and one pooled model that use data also from the EPL. The models are explained comprehensively in the Model-part of this notebook.\n",
    "\n",
    "<b>IMPORTANT</b><br>\n",
    "This project is just for training with Bayesian Data Analysis and the model provided in the project is not intended to work in the real world."
   ]
  },
  {
   "cell_type": "markdown",
   "metadata": {},
   "source": [
    "## Data"
   ]
  },
  {
   "cell_type": "markdown",
   "metadata": {},
   "source": [
    "In this project we are going to use three different datasets which can be found in the following files:<br>\n",
    "<ul>\n",
    "    <li>cr7.txt</li>\n",
    "    <li>manu.txt</li>\n",
    "    <li>epl.txt</li>\n",
    "</ul>\n",
    "\n",
    "As Ronaldo has played 12 seasons (from season 2009-2010 until 2020-2021) outside the EPL, it is not possible to obtain a huge amount of data of the goals scored. But the beauty of Bayesian methods is that we can work with small amount of data and still get a distribution of our predictions.<br>\n",
    "\n",
    "<b>All models</b><br>\n",
    "For all of our models we are going to use data of Ronaldo's goal scoring in LaLiga and Serie A (file cr7.txt). For simplicity in all of our models we are ignoring goals scored in other competitions such as Champions League. Ronaldo's goal scoring data is gathered from ESPN.com and it is manually collected as there is no universal free database for football statistics.\n",
    "\n",
    "<b>Pooled model: Prediction using ManU forward data</b><br>\n",
    "The data for this model can be found in manu.txt and cr7.txt. The ManU data contains top 3 goal scorers (forwards and attacking midfielders) from Mancher United from 12 seasons. Each row represents a season and each column in the data the top goal scorer such that first column is the top goal scorer, the second column the second and the third column the third. In this pooled model, this separation does not however affect in any way as the goal amounts are being pooled into one dimensional dataset. The ManU goals are from Premier League's official website, premierleague.com, and they are also manually collected. We will use data starting from season 2009-2010 until season 2020-2021, as these are the seasons Ronaldo played in LaLiga and Serie A. \n",
    "\n",
    "\n",
    "\n",
    "<b>Hierarchical model 1: Prediction using ManU forward data</b><br>\n",
    "The data for this model can be found also in manu.txt as well as in cr7.txt. The data in manu.txt is the same as in the pooled model, however in this hierarchical model the columns do matter. For the Manchester United forward goals we are going to use each season the top 3 goal scoring forward's goals as no player has played in Manchester United the whole time that Ronaldo has played. Therefore we have three columns on our ManU data, each representing an unidentified player. This can be rationalized by the fact that we are not interested in these players from the ManU population and their meaning in this model is to add the ManU way of playing to the model through a hierarchical sense.\n",
    " \n",
    "<b>Hierarchical model 2: Prediction using PL forward data</b><br>\n",
    "In this third model the data from epl.txt and cr7.txt is used. More coming soon...\n"
   ]
  },
  {
   "cell_type": "code",
   "execution_count": 2,
   "metadata": {},
   "outputs": [],
   "source": [
    "# DATA FOR RONALDO\n",
    "data = []\n",
    "with open(\"./data/cr7.txt\") as file:\n",
    "    for line in file:\n",
    "        values = line.rstrip()\n",
    "        data.append(values)\n",
    "data_cr7 = np.array([int(value) for value in data])"
   ]
  },
  {
   "cell_type": "code",
   "execution_count": 3,
   "metadata": {},
   "outputs": [],
   "source": [
    "# DATA FOR MANU FORWARDS\n",
    "data = []\n",
    "with open(\"./data/manu.txt\") as file:\n",
    "    for line in file:\n",
    "        values = line.rstrip().split(\",\")\n",
    "        data.append(values)\n",
    "data_manu = np.array([[int(value) for value in values] for values in data])"
   ]
  },
  {
   "cell_type": "code",
   "execution_count": 4,
   "metadata": {},
   "outputs": [],
   "source": [
    "# DATA FOR OTHER PREMIER LEAGUE FORWARDS\n",
    "data = []\n",
    "with open(\"./data/epl.txt\") as file:\n",
    "    for line in file:\n",
    "        values = line.rstrip()\n",
    "        data.append(values)\n",
    "data_epl = np.array([int(value) for value in data])"
   ]
  },
  {
   "cell_type": "markdown",
   "metadata": {},
   "source": [
    "We can also plot the data before we start to predict, so that we have some idea on what we are talking about."
   ]
  },
  {
   "cell_type": "code",
   "execution_count": 5,
   "metadata": {},
   "outputs": [
    {
     "data": {
      "image/png": "[encoded data removed]",
      "text/plain": [
       "<Figure size 576x360 with 1 Axes>"
      ]
     },
     "metadata": {
      "needs_background": "light"
     },
     "output_type": "display_data"
    }
   ],
   "source": [
    "plt.figure(figsize=(8, 5))\n",
    "plt.hist(x=data_cr7, bins=5, color=\"blue\")\n",
    "plt.title(\"Ronaldo's goal scoring in Serie A and LaLiga\")\n",
    "plt.xlabel(\"Goals per season\")\n",
    "plt.ylabel(\"Amount of seasons\");"
   ]
  },
  {
   "cell_type": "code",
   "execution_count": 6,
   "metadata": {},
   "outputs": [
    {
     "data": {
      "image/png": "[encoded data removed]",
      "text/plain": [
       "<Figure size 1728x288 with 4 Axes>"
      ]
     },
     "metadata": {
      "needs_background": "light"
     },
     "output_type": "display_data"
    }
   ],
   "source": [
    "fig, ax = plt.subplots(1,4)\n",
    "fig.set_size_inches(24, 4)\n",
    "\n",
    "ax[0].hist(x=data_manu[:, 0], bins=5, color=\"red\")\n",
    "ax[0].set_title(\"ManU forward 1 goal scoring in 12 last seasons\")\n",
    "ax[0].set_xlabel(\"Goals per season\")\n",
    "ax[0].set_ylabel(\"Amount of seasons\")\n",
    "\n",
    "ax[1].hist(x=data_manu[:, 1], bins=5, color=\"green\")\n",
    "ax[1].set_title(\"ManU forward 2 goal scoring in 12 last seasons\")\n",
    "ax[1].set_xlabel(\"Goals per season\")\n",
    "ax[1].set_ylabel(\"Amount of seasons\")\n",
    "\n",
    "ax[2].hist(x=data_manu[:, 2], bins=5, color=\"purple\")\n",
    "ax[2].set_title(\"ManU forward 3 goal scoring in 12 last seasons\")\n",
    "ax[2].set_xlabel(\"Goals per season\")\n",
    "ax[2].set_ylabel(\"Amount of seasons\");\n",
    "\n",
    "ax[3].hist(x=data_manu.flatten(), bins=5, color=\"purple\")\n",
    "ax[3].set_title(\"All 3 ManU forwards' goal scoring in 12 last seasons\")\n",
    "ax[3].set_xlabel(\"Goals per season\")\n",
    "ax[3].set_ylabel(\"Amount of seasons\");"
   ]
  },
  {
   "cell_type": "markdown",
   "metadata": {},
   "source": [
    "## Model 1 - Pooled Model Using ManU Forwards"
   ]
  },
  {
   "cell_type": "markdown",
   "metadata": {},
   "source": [
    "### Description"
   ]
  },
  {
   "cell_type": "markdown",
   "metadata": {},
   "source": [
    "In the first model we are going to model Ronaldo's expected goal amount in a season using a pooled model. As data we have the goal amounts of ManU forwards from previous seasons as well as Ronaldo's goal amounts as explained in the Data section. With the data we can form a pooled model of the ManU data and predict what would a new ManU player (Ronaldo) score in a season. By using the historical data from other ManU forwards we add the \"ManU style of play\" into the model as it is likely that each team in EPL has its own style of play and therefore also own amount of goals scored. \n",
    "\n",
    "<b>Model</b><br>\n",
    "As goals can be thought to have random arrivals during the season, we could make a common assumption that the arrivals of goals are independent and they follow an exponential distribution. Therefore, the amount of these arrivals follows a poisson distribution. Therefore, we can approximate the amount of goals in a season as a counting process which follows a Poisson distribution (number of goals in a season). Therefore, we can use as our likelihood the following:\n",
    "\n",
    "$$\n",
    "y \\sim Poisson(\\lambda)\n",
    "$$\n",
    "\n",
    "As prior we know that the mean must be positive, therefore also the lambda which is same as the mean in Poisson distributions. We also know that the Gamma distribution belongs to the conjugate family of Poisson distribution and is always positive. Therefore we could use as prior for the parameter lambda a gamma distribution, which is also often used as the prior for a Poisson distribution. Better be safe than sorry in our model:\n",
    "\n",
    "$$\n",
    "\\lambda \\sim gamma(\\alpha, \\beta)\n",
    "$$\n",
    "\n",
    "Now, what should we use as the values for our parameters. In a Gamma distribution alpha is the shape parameter and beta is the inverse of scale parameter. The mean of the Gamma distribution is alpha divided by beta. For our first prior we could forget the all this theory and use a weakly informative prior such as:\n",
    "$$\n",
    "\\lambda \\sim gamma(0.001, 0.001)\n",
    "$$\n",
    "which has a long tail and accepts any data as typical for it. This is also plotted below."
   ]
  },
  {
   "cell_type": "code",
   "execution_count": 111,
   "metadata": {},
   "outputs": [
    {
     "data": {
      "image/png": "[encoded data removed]",
      "text/plain": [
       "<Figure size 432x288 with 1 Axes>"
      ]
     },
     "metadata": {
      "needs_background": "light"
     },
     "output_type": "display_data"
    }
   ],
   "source": [
    "alpha = 0.001\n",
    "beta = 0.001\n",
    "x = np.linspace(0, 100, 100)\n",
    "y = stats.gamma.pdf(x, a=alpha, scale=1/beta)\n",
    "plt.plot(x, y);"
   ]
  },
  {
   "cell_type": "markdown",
   "metadata": {},
   "source": [
    "However, as we have some knowledge of Ronaldo's past performance, let's not use only a boring weakly informative prior. Let's try an informative one. To add prior knowledge of Ronaldo's goals, we can try to change the alpha and beta in our prior to fit the goals scored by Ronaldo. To fit the prior distribution with our previous data we could for example modify alpha and beta so that the data is inside the 90% percentile interval of the Gamma distribution. However, this would be quite hard for the Gamma distribution. Therefore, an alternative approach is selected. Let's first find out the smallest amount of goals Ronaldo scored and the largest, as well as the mean and the standard deviation."
   ]
  },
  {
   "cell_type": "code",
   "execution_count": 11,
   "metadata": {},
   "outputs": [
    {
     "name": "stdout",
     "output_type": "stream",
     "text": [
      "Smallest: 21\n",
      "Largest: 48\n",
      "Mean: 32.67\n",
      "Standard deviation: 8.05\n"
     ]
    }
   ],
   "source": [
    "s = data_cr7.min()\n",
    "l = data_cr7.max()\n",
    "m = data_cr7.mean()\n",
    "std = data_cr7.std()\n",
    "print(f\"Smallest: {s}\\nLargest: {l}\\nMean: {m:.2f}\\nStandard deviation: {std:.2f}\");"
   ]
  },
  {
   "cell_type": "markdown",
   "metadata": {},
   "source": [
    "Now we want values between 21 and 48 be within the highest probability density. We want also the mean to be around the real mean of the data and therefore alpha divided by beta should be approximately 33. We could  use the Method of Moments to get our estimates for alpha and beta obtaining the following values:\n",
    "$$\n",
    "\\alpha = \\frac{E[X]^{2}}{Var[X]} = 16.5\n",
    "$$\n",
    "$$\n",
    "\\beta = \\frac{E[X]}{Var[X]} = 0.5\n",
    "$$\n",
    "With these values alpha divided by beta is 33. Let's try to plot these values to see if they look reasonable."
   ]
  },
  {
   "cell_type": "code",
   "execution_count": 12,
   "metadata": {},
   "outputs": [
    {
     "data": {
      "image/png": "[encoded data removed]",
      "text/plain": [
       "<Figure size 432x288 with 1 Axes>"
      ]
     },
     "metadata": {
      "needs_background": "light"
     },
     "output_type": "display_data"
    }
   ],
   "source": [
    "alpha = 16.5\n",
    "beta = 0.5\n",
    "x = np.linspace(0, 60, 60)\n",
    "y = stats.gamma.pdf(x, a=alpha, scale=1/beta)\n",
    "plt.plot(x, y);"
   ]
  },
  {
   "cell_type": "markdown",
   "metadata": {},
   "source": [
    "With alpha = 16.5 and beta = 0.5 the distribution looks like it would represent Ronaldo's previous goals. Let's use these parameters in our informative prior distribution.\n",
    "$$\n",
    "\\lambda \\sim gamma(16.5, 0.5)\n",
    "$$"
   ]
  },
  {
   "cell_type": "markdown",
   "metadata": {},
   "source": [
    "### Stan model"
   ]
  },
  {
   "cell_type": "code",
   "execution_count": 13,
   "metadata": {},
   "outputs": [
    {
     "name": "stdout",
     "output_type": "stream",
     "text": [
      "data {\n",
      "    int<lower=0> N; // NUMBER OF SEASONS (12)\n",
      "    int y[N]; // HISTORICAL DATA\n",
      "    real<lower=0> alpha; // PARAMETER FOR GAMMA DISTRIBUTION\n",
      "    real<lower=0> beta; // PARAMETER FOR GAMMA DISTRIBUTION\n",
      "}\n",
      "parameters {\n",
      "    real<lower=0> la; // LAMBDA FOR POISSON\n",
      "}\n",
      "model {\n",
      "    target += gamma_lpdf(la | alpha, beta); // PRIOR\n",
      "    target += poisson_lpmf(y | la); // LIKELIHOOD\n",
      "}\n",
      "generated quantities {\n",
      "    real pred = poisson_rng(la); // PREDICTION FOR CR7\n",
      "\n",
      "    //vector[N] log_lik;\n",
      "    //  for (i in 1:N)\n",
      "    //    log_lik[N] = normal_lpdf(y[N] | theta[j], sigma);\n",
      "}\n"
     ]
    }
   ],
   "source": [
    "# STAN CODE\n",
    "stan_list = []\n",
    "with open(\"./models/pooled.stan\") as file:\n",
    "    for line in file:\n",
    "        stan_list.append(line)\n",
    "stan_code = \"\".join(stan_list)\n",
    "print(stan_code)"
   ]
  },
  {
   "cell_type": "markdown",
   "metadata": {},
   "source": [
    "### Implementation"
   ]
  },
  {
   "cell_type": "markdown",
   "metadata": {},
   "source": [
    "First the model with weakly informative prior:"
   ]
  },
  {
   "cell_type": "code",
   "execution_count": 14,
   "metadata": {},
   "outputs": [
    {
     "name": "stdout",
     "output_type": "stream",
     "text": [
      "Building...\n"
     ]
    },
    {
     "name": "stderr",
     "output_type": "stream",
     "text": [
      "\n",
      "Building: found in cache, done.Messages from stanc:\n",
      "Warning: The parameter la has no priors.\n",
      "Sampling:   0%\n",
      "Sampling:  25% (2000/8000)\n",
      "Sampling:  50% (4000/8000)\n",
      "Sampling:  75% (6000/8000)\n",
      "Sampling: 100% (8000/8000)\n",
      "Sampling: 100% (8000/8000), done.\n",
      "Messages received during sampling:\n",
      "  Gradient evaluation took 1.2e-05 seconds\n",
      "  1000 transitions using 10 leapfrog steps per transition would take 0.12 seconds.\n",
      "  Adjust your expectations accordingly!\n",
      "  Gradient evaluation took 9e-06 seconds\n",
      "  1000 transitions using 10 leapfrog steps per transition would take 0.09 seconds.\n",
      "  Adjust your expectations accordingly!\n",
      "  Gradient evaluation took 9e-06 seconds\n",
      "  1000 transitions using 10 leapfrog steps per transition would take 0.09 seconds.\n",
      "  Adjust your expectations accordingly!\n",
      "  Gradient evaluation took 1e-05 seconds\n",
      "  1000 transitions using 10 leapfrog steps per transition would take 0.1 seconds.\n",
      "  Adjust your expectations accordingly!\n"
     ]
    }
   ],
   "source": [
    "# STAN MODEL\n",
    "nest_asyncio.apply()\n",
    "inputs = {'N': data_manu.shape[0]*data_manu.shape[1], 'y': data_manu.flatten(), 'alpha': 0.001, 'beta': 0.001}\n",
    "model = stan.build(program_code=stan_code, data=inputs);\n",
    "weakly_pooled_fit = model.sample();\n",
    "weakly_pooled_df = weakly_pooled_fit.to_frame()"
   ]
  },
  {
   "cell_type": "markdown",
   "metadata": {},
   "source": [
    "Then the model with informative prior:"
   ]
  },
  {
   "cell_type": "code",
   "execution_count": 15,
   "metadata": {},
   "outputs": [
    {
     "name": "stdout",
     "output_type": "stream",
     "text": [
      "Building...\n"
     ]
    },
    {
     "name": "stderr",
     "output_type": "stream",
     "text": [
      "\n",
      "Building: found in cache, done.Messages from stanc:\n",
      "Warning: The parameter la has no priors.\n",
      "Sampling:   0%\n",
      "Sampling:  25% (2000/8000)\n",
      "Sampling:  50% (4000/8000)\n",
      "Sampling:  75% (6000/8000)\n",
      "Sampling: 100% (8000/8000)\n",
      "Sampling: 100% (8000/8000), done.\n",
      "Messages received during sampling:\n",
      "  Gradient evaluation took 1.4e-05 seconds\n",
      "  1000 transitions using 10 leapfrog steps per transition would take 0.14 seconds.\n",
      "  Adjust your expectations accordingly!\n",
      "  Gradient evaluation took 9e-06 seconds\n",
      "  1000 transitions using 10 leapfrog steps per transition would take 0.09 seconds.\n",
      "  Adjust your expectations accordingly!\n",
      "  Gradient evaluation took 3e-06 seconds\n",
      "  1000 transitions using 10 leapfrog steps per transition would take 0.03 seconds.\n",
      "  Adjust your expectations accordingly!\n",
      "  Gradient evaluation took 4e-06 seconds\n",
      "  1000 transitions using 10 leapfrog steps per transition would take 0.04 seconds.\n",
      "  Adjust your expectations accordingly!\n"
     ]
    }
   ],
   "source": [
    "# STAN MODEL\n",
    "nest_asyncio.apply()\n",
    "inputs = {'N': data_manu.shape[0]*data_manu.shape[1], 'y': data_manu.flatten(), 'alpha': 16.5, 'beta': 0.5}\n",
    "model = stan.build(program_code=stan_code, data=inputs);\n",
    "informative_pooled_fit = model.sample();\n",
    "informative_pooled_df = informative_pooled_fit.to_frame()"
   ]
  },
  {
   "cell_type": "markdown",
   "metadata": {},
   "source": [
    "### Convergence diagnostics"
   ]
  },
  {
   "cell_type": "markdown",
   "metadata": {},
   "source": [
    "only report digits for which the Monte Carlo Standard Error is 0."
   ]
  },
  {
   "cell_type": "markdown",
   "metadata": {},
   "source": [
    "### Posterior predictive checking"
   ]
  },
  {
   "cell_type": "code",
   "execution_count": 16,
   "metadata": {},
   "outputs": [
    {
     "data": {
      "image/png": "[encoded data removed]",
      "text/plain": [
       "<Figure size 432x288 with 1 Axes>"
      ]
     },
     "metadata": {
      "needs_background": "light"
     },
     "output_type": "display_data"
    }
   ],
   "source": [
    "plt.hist(weakly_pooled_fit[\"pred\"][0]);"
   ]
  },
  {
   "cell_type": "code",
   "execution_count": 17,
   "metadata": {},
   "outputs": [
    {
     "data": {
      "text/plain": [
       "12.60175"
      ]
     },
     "execution_count": 17,
     "metadata": {},
     "output_type": "execute_result"
    }
   ],
   "source": [
    "weakly_pooled_fit[\"pred\"][0].mean()"
   ]
  },
  {
   "cell_type": "code",
   "execution_count": 18,
   "metadata": {},
   "outputs": [
    {
     "data": {
      "image/png": "[encoded data removed]",
      "text/plain": [
       "<Figure size 432x288 with 1 Axes>"
      ]
     },
     "metadata": {
      "needs_background": "light"
     },
     "output_type": "display_data"
    }
   ],
   "source": [
    "plt.hist(informative_pooled_fit[\"pred\"][0]);"
   ]
  },
  {
   "cell_type": "code",
   "execution_count": 19,
   "metadata": {},
   "outputs": [
    {
     "data": {
      "text/plain": [
       "12.8605"
      ]
     },
     "execution_count": 19,
     "metadata": {},
     "output_type": "execute_result"
    }
   ],
   "source": [
    "informative_pooled_fit[\"pred\"][0].mean()"
   ]
  },
  {
   "cell_type": "markdown",
   "metadata": {},
   "source": [
    "### Sensitivity analysis"
   ]
  },
  {
   "cell_type": "markdown",
   "metadata": {},
   "source": [
    "### Decision analysis"
   ]
  },
  {
   "cell_type": "markdown",
   "metadata": {},
   "source": [
    "### Problems in the model"
   ]
  },
  {
   "cell_type": "markdown",
   "metadata": {},
   "source": [
    "## Model 2 - Hierarchical Model Using ManU Forwards"
   ]
  },
  {
   "cell_type": "markdown",
   "metadata": {},
   "source": [
    "### Description"
   ]
  },
  {
   "cell_type": "markdown",
   "metadata": {},
   "source": [
    "In the first hierarchical model we are going to model Ronaldo's expected goal amount in a season using a hierarchical model, where we are going to use also the goal scoring of other Manchester United forwards in previous seasons. As each team in EPL have their own style of playing, we can argue that there also is a specific amount of goals that usually occur from that style of playing. Therefore, we could assume that Ronaldo's goal amount in ManU shirt is related to the goal amount of other ManU forwards and therefore we could use a hierarchical model, where we take advantage of the data we have from the other forwards.<br>\n",
    "\n",
    "Now, we could take the easy way like in the pooled model and make our predictions just by using the ManU forward population (scored goals in each season), give some weakly informative hyperpriors and sample hyperparameters for the priors for each player, create a fitting likelihood function and sample a predictive distribution for a new player coming in the ManU team (Ronaldo). However, Ronaldo is not some random player coming to the club, but one of the best players in the world. How can we add this knwoledge of Ronaldo's skills to our model, while still keeping the information from the ManU forward population distribution? One possible way, which is used in this model, is to obtain the prior for Ronaldo's goal scoring from the ManU population distribution and add Ronaldo's skills to the model through data from his past goal scoring in LaLiga and Serie A.<br>\n",
    "\n",
    "<b>The model</b><br>\n",
    "\n",
    "As hyperpriors we are going to use for sigma\n"
   ]
  },
  {
   "cell_type": "markdown",
   "metadata": {},
   "source": [
    "### Stan model"
   ]
  },
  {
   "cell_type": "markdown",
   "metadata": {},
   "source": [
    "As the resulting posterior distribution is hard to compute, we are going to sample from it using Markov Chain Monte Carlo methods. To do this, we use a software called Stan and its Python library PyStan3. Stan uses dynamic Hamiltonian Monte Carlo (by default No-U-Turn Sampler, NUTS) as the MCMC-method to sample from the posterior distribution as it needs fewer Markov Chain samples to converge than for example Gibbs sampling."
   ]
  },
  {
   "cell_type": "markdown",
   "metadata": {},
   "source": [
    "Stan implementation of the model:"
   ]
  },
  {
   "cell_type": "code",
   "execution_count": null,
   "metadata": {},
   "outputs": [],
   "source": [
    "# STAN CODE\n",
    "stan_list = []\n",
    "with open(\"./models/hierarch1.stan\") as file:\n",
    "    for line in file:\n",
    "        stan_list.append(line)\n",
    "hier_stan = \"\".join(stan_list)\n",
    "print(hier_stan)"
   ]
  },
  {
   "cell_type": "markdown",
   "metadata": {},
   "source": [
    "### Implementation"
   ]
  },
  {
   "cell_type": "code",
   "execution_count": null,
   "metadata": {},
   "outputs": [],
   "source": [
    "# STAN MODEL\n",
    "nest_asyncio.apply()\n",
    "inputs = {'N': data_manu.shape[0], 'J': data_manu.shape[1], 'y1': data_manu, 'y2': data_cr7}\n",
    "model = stan.build(program_code=hier_stan, data=inputs);\n",
    "hier_fit = model.sample();\n",
    "hier_df = hier_fit.to_frame()"
   ]
  },
  {
   "cell_type": "code",
   "execution_count": null,
   "metadata": {},
   "outputs": [],
   "source": [
    "hier_fit[\"pred4\"].mean()"
   ]
  },
  {
   "cell_type": "markdown",
   "metadata": {},
   "source": [
    "### Convergence diagnostics"
   ]
  },
  {
   "cell_type": "markdown",
   "metadata": {},
   "source": [
    "### Posterior predictive checking"
   ]
  },
  {
   "cell_type": "markdown",
   "metadata": {},
   "source": [
    "### Sensitivity analysis"
   ]
  },
  {
   "cell_type": "markdown",
   "metadata": {},
   "source": [
    "### Decision analysis"
   ]
  },
  {
   "cell_type": "markdown",
   "metadata": {},
   "source": [
    "### Problems in the model"
   ]
  },
  {
   "cell_type": "markdown",
   "metadata": {},
   "source": [
    "<b>Exchangeability</b><br>\n",
    "First problem of our model is that the groups in the ManU forward data are not clearly exchangeable as we know that they are selected so that the first group is the best forward, second group the second best and the third one the third best. However, as we know that they all are samples from the same population distribution (ManU forward goal scoring distribution), I claim that this knowledge of their order does not matter in this context and as we model a prior distribution from this hierarchical model for the real posterior distribution, we are using a two level hierarchical model that models also the variation between the groups and therefore only partial exchangeablity is needed. Also, we do not have knowledge that the first forward is <b>better</b> at scoring, we just have data where he has scored more goals. Therefore, I claim that we can assume that all the groups are from the same distribution and the data just happens to be ordered."
   ]
  },
  {
   "cell_type": "markdown",
   "metadata": {},
   "source": [
    "## Model 3 - Hierarchical model using new Premier League Forwards"
   ]
  },
  {
   "cell_type": "markdown",
   "metadata": {},
   "source": [
    "## Model comparison"
   ]
  },
  {
   "cell_type": "markdown",
   "metadata": {},
   "source": [
    "## Sources"
   ]
  },
  {
   "cell_type": "markdown",
   "metadata": {},
   "source": [
    "Santos-Fernandez, E. & Wu, P. & Mengerson, K. L. (2019). Bayesian statistics meets sports: a comprehensive review. Journal of Quantitative Analysis in Sports. Vol. 15(4). S. 289-312.\n",
    "\n",
    "Settimi, C. (2021). The World’s Highest-Paid Soccer Players 2021: Manchester United’s Cristiano Ronaldo Reclaims Top Spot From PSG’s Lionel Messi. Forbes. "
   ]
  }
 ],
 "metadata": {
  "interpreter": {
   "hash": "f88a381bb2445f5b04c02ff4e794610a51e3aa0a1131936bf17e1eeaab3c3041"
  },
  "kernelspec": {
   "display_name": "Python 3.8.8 64-bit ('base': conda)",
   "name": "python3"
  },
  "language_info": {
   "codemirror_mode": {
    "name": "ipython",
    "version": 3
   },
   "file_extension": ".py",
   "mimetype": "text/x-python",
   "name": "python",
   "nbconvert_exporter": "python",
   "pygments_lexer": "ipython3",
   "version": "3.8.8"
  },
  "orig_nbformat": 4
 },
 "nbformat": 4,
 "nbformat_minor": 2
}
